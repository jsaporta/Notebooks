{
 "cells": [
  {
   "cell_type": "markdown",
   "metadata": {},
   "source": [
    "# Overview"
   ]
  },
  {
   "cell_type": "markdown",
   "metadata": {
    "collapsed": true
   },
   "source": [
    "(First and foremost, it's a work in progress.)\n",
    "\n",
    "This is an implementation of t-SNE in Python 3 heavily influenced by the Python 2 implementation (along with the corresponding data) found [here](https://lvdmaaten.github.io/tsne/), complementing [this JMLR paper](https://lvdmaaten.github.io/publications/papers/JMLR_2008.pdf) by van der Maaten and Hinton. The Python 2 version was created by Laurens van der Maaten, the creator of the website and co-author of the paper, in 2008.\n",
    "\n",
    "First, a general function for using this technique is developed. It is then applied to the MNIST dataset as provided by the author's website.\n",
    "\n",
    "Differences from the original code include:\n",
    "- This is for Python 3, not Python 2.\n",
    "- Variable names may be changed.\n",
    "- Functions from standard packages will be used to simplify the code when possible.\n",
    "- Plots will be created using [Altair](https://altair-viz.github.io/) rather than Matplotlib.\n",
    "\n",
    "Suggestions for how to make the code or the exposition clearer are certainly welcome. The goal of this notebook is to provide a clear implementation of t-SNE as explained in the paper."
   ]
  },
  {
   "cell_type": "markdown",
   "metadata": {},
   "source": [
    "# The Function"
   ]
  },
  {
   "cell_type": "code",
   "execution_count": 3,
   "metadata": {
    "collapsed": true
   },
   "outputs": [],
   "source": [
    "import numpy as np"
   ]
  },
  {
   "cell_type": "markdown",
   "metadata": {},
   "source": [
    "As per Algorithm 1 on page 2587, t-SNE takes as input a dataset of n points $\\boldsymbol{x}_1, \\ldots, \\boldsymbol{x}_n$, a perplexity value, a number of iterations $T$, a learning rate $\\eta$, and a momentum function $\\alpha(t)$. We also need to input, of course the number of dimensions we want to reduce our data to.\n",
    "\n",
    "Here, $\\boldsymbol{X}$ will represent a "
   ]
  },
  {
   "cell_type": "code",
   "execution_count": 1,
   "metadata": {
    "collapsed": false
   },
   "outputs": [
    {
     "ename": "SyntaxError",
     "evalue": "unexpected EOF while parsing (<ipython-input-1-874d366e75be>, line 1)",
     "output_type": "error",
     "traceback": [
      "\u001b[0;36m  File \u001b[0;32m\"<ipython-input-1-874d366e75be>\"\u001b[0;36m, line \u001b[0;32m1\u001b[0m\n\u001b[0;31m    def tSNE(X, perplexity, T, eta, alpha, num_dim):\u001b[0m\n\u001b[0m                                                    ^\u001b[0m\n\u001b[0;31mSyntaxError\u001b[0m\u001b[0;31m:\u001b[0m unexpected EOF while parsing\n"
     ]
    }
   ],
   "source": [
    "def tSNE(X, perplexity, T, eta, alpha, num_dim):"
   ]
  }
 ],
 "metadata": {
  "anaconda-cloud": {},
  "kernelspec": {
   "display_name": "Python [default]",
   "language": "python",
   "name": "python3"
  },
  "language_info": {
   "codemirror_mode": {
    "name": "ipython",
    "version": 3
   },
   "file_extension": ".py",
   "mimetype": "text/x-python",
   "name": "python",
   "nbconvert_exporter": "python",
   "pygments_lexer": "ipython3",
   "version": "3.5.2"
  }
 },
 "nbformat": 4,
 "nbformat_minor": 1
}
