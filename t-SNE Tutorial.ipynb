{
 "cells": [
  {
   "cell_type": "markdown",
   "metadata": {},
   "source": [
    "# t-SNE Tutorial"
   ]
  },
  {
   "cell_type": "markdown",
   "metadata": {},
   "source": [
    "## Overview"
   ]
  },
  {
   "cell_type": "markdown",
   "metadata": {
    "collapsed": true
   },
   "source": [
    "This is an implementation of t-SNE in Python 3 heavily influenced by the Python 2 implementation (along with the corresponding data) found [here](https://lvdmaaten.github.io/tsne/), complementing [this JMLR paper](https://lvdmaaten.github.io/publications/papers/JMLR_2008.pdf). The Python 2 version was created by Laurens van der Maaten, the creator of the website, in 2008.\n",
    "\n",
    "First, a general function for using this technique is developed. It is then applied to the MNIST dataset as provided by the author's website.\n",
    "\n",
    "Differences from the original code include:\n",
    "- This is for Python 3, not Python 2.\n",
    "- Variable names may be changed.\n",
    "- Functions from standard packages will be used to simplify the code when possible.\n",
    "- Plots will be created using [Altair](https://altair-viz.github.io/) rather than Matplotlib.\n",
    "\n",
    "Suggestions for how to make the code or the exposition clearer are certainly welcome. That said, the goal of this notebook is to provide a clear explanation of t-SNE as well as a straightforward implementation, not to provide the fastest code possible or anything like that."
   ]
  },
  {
   "cell_type": "markdown",
   "metadata": {},
   "source": [
    "## A General Function"
   ]
  },
  {
   "cell_type": "code",
   "execution_count": 3,
   "metadata": {
    "collapsed": true
   },
   "outputs": [],
   "source": [
    "import numpy as np"
   ]
  },
  {
   "cell_type": "markdown",
   "metadata": {},
   "source": [
    "This first function computes the perplexity and the P-row for a specified precision of a Gaussian distribution."
   ]
  },
  {
   "cell_type": "code",
   "execution_count": 5,
   "metadata": {
    "collapsed": false
   },
   "outputs": [],
   "source": [
    "def Hbeta(D = np.array([]), beta = 1.0):\n",
    "    P = np.exp(-D.copy() * beta)\n",
    "    sumP = np.sum(P)\n",
    "    H = np.log(sumP) + beta * np.sum(D * P) / sumP\n",
    "    P = P / sumP\n",
    "    return H, P"
   ]
  },
  {
   "cell_type": "code",
   "execution_count": null,
   "metadata": {
    "collapsed": true
   },
   "outputs": [],
   "source": []
  }
 ],
 "metadata": {
  "kernelspec": {
   "display_name": "Python 3",
   "language": "python",
   "name": "python3"
  },
  "language_info": {
   "codemirror_mode": {
    "name": "ipython",
    "version": 3
   },
   "file_extension": ".py",
   "mimetype": "text/x-python",
   "name": "python",
   "nbconvert_exporter": "python",
   "pygments_lexer": "ipython3",
   "version": "3.4.3"
  }
 },
 "nbformat": 4,
 "nbformat_minor": 1
}
