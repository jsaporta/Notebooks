{
 "cells": [
  {
   "cell_type": "markdown",
   "metadata": {},
   "source": [
    "# Setup"
   ]
  },
  {
   "cell_type": "code",
   "execution_count": 1,
   "metadata": {
    "collapsed": true
   },
   "outputs": [],
   "source": [
    "import numpy as np\n",
    "import pandas as pd"
   ]
  },
  {
   "cell_type": "markdown",
   "metadata": {},
   "source": [
    "This notebook works under the assumption that your Blackboard grades...\n",
    "- are completely filled in with no missing values (--) or \"In Progress\" values for the columns used. `NaN` values are assumed to denote exemptions.\n",
    "- have been downloaded to your computer as a `.csv` file, read in to Python in the first line below (I renamed it to the current date)."
   ]
  },
  {
   "cell_type": "code",
   "execution_count": 2,
   "metadata": {
    "collapsed": true
   },
   "outputs": [],
   "source": [
    "grades = pd.read_csv('04-08-17.csv', header=0)\n",
    "column_names = list(grades.columns)\n",
    "num_students = len(grades)"
   ]
  },
  {
   "cell_type": "markdown",
   "metadata": {},
   "source": [
    "# Progress in the Course"
   ]
  },
  {
   "cell_type": "code",
   "execution_count": 3,
   "metadata": {
    "collapsed": true
   },
   "outputs": [],
   "source": [
    "num_labs_completed = 11 # Assumed to be greater than 0.\n",
    "num_ohws_completed = 12\n",
    "num_vqs_completed = 13\n",
    "num_whws_completed = 8\n",
    "num_lqs_completed = 7\n",
    "num_uqs_completed = 3\n",
    "\n",
    "midterm_den = 70\n",
    "\n",
    "midterm_exam_completed = True\n",
    "final_exam_completed = False"
   ]
  },
  {
   "cell_type": "markdown",
   "metadata": {},
   "source": [
    "# Grade Breakdown as per the Syllabus"
   ]
  },
  {
   "cell_type": "markdown",
   "metadata": {},
   "source": [
    "The grade breakdown is as follows:\n",
    "- Labs: 6%\n",
    "- Online Homework: 12%\n",
    "- Written Homework: 13%\n",
    "- Lecture Quizzes: 5%\n",
    "- Vocab Quizzes: 4%\n",
    "- Unit Quizzes: 4% each\n",
    "- Midterm Exam: 20%\n",
    "- Final Exam: 20%\n",
    "\n",
    "Lab grades are scaled to allow you to miss up to one lab, without penalty, with a maximum score of 100%.\n",
    "\n",
    "Online homework, written homework, and vocab quiz grades are scaled to allow you to miss up to 5% of the total points available in the category, without penalty, with a maximum score of 100%.\n",
    "\n",
    "Lecture quiz grades are scaled at the end of the semester to allow you to miss two lecture quizzes without penalty, with a maximum score of 100%."
   ]
  },
  {
   "cell_type": "code",
   "execution_count": 4,
   "metadata": {
    "collapsed": true
   },
   "outputs": [],
   "source": [
    "pcts = {'lab': 0.06,\n",
    "       'ohw': 0.12,\n",
    "       'whw': 0.13,\n",
    "       'lq': 0.05,\n",
    "       'vq': 0.04,\n",
    "       'uq': 0.20,\n",
    "       'mt': 0.20,\n",
    "       'fe': 0.20}"
   ]
  },
  {
   "cell_type": "markdown",
   "metadata": {},
   "source": [
    "This is the function used to calculate the grade for each type of assignment before modifications are made:"
   ]
  },
  {
   "cell_type": "code",
   "execution_count": 5,
   "metadata": {
    "collapsed": true
   },
   "outputs": [],
   "source": [
    "def calculate_raw_grade_portion(column_number_list, total_points_list):\n",
    "    \"\"\"\n",
    "    Takes a list or tuple of column numbers and their associated total numbers of points.\n",
    "    The total point numbers can probably be extracted via regular expressions to make this work even nicer.\n",
    "    \"\"\"\n",
    "    num = np.zeros(num_students)\n",
    "    den = num.copy()\n",
    "    for i in range(num_students):\n",
    "        for j in range(len(column_number_list)):\n",
    "            col = column_number_list[j]\n",
    "            grade = grades.ix[i, col]\n",
    "            total_points = total_points_list[j]\n",
    "            if not np.isnan(grade):\n",
    "                num[i] += grade\n",
    "                den[i] += total_points\n",
    "    return num, den # Returning these seaparately makes later modifications easier."
   ]
  },
  {
   "cell_type": "markdown",
   "metadata": {},
   "source": [
    "# Labs"
   ]
  },
  {
   "cell_type": "markdown",
   "metadata": {},
   "source": [
    "Labs correspond to columns 7 through 19 of the downloaded `.csv` file.\n",
    "<font color=\"red\">These should perhaps be extracted using regex's on the column names rather than numeric values.<br />\n",
    "RegEx's are a pain, though.<br />\n",
    "The same could probably be done to get the total number of points for each assignment.</font>"
   ]
  },
  {
   "cell_type": "code",
   "execution_count": 6,
   "metadata": {
    "scrolled": true
   },
   "outputs": [
    {
     "data": {
      "text/plain": [
       "['Lab 1 [Total Pts: 30] |1241996',\n",
       " 'Lab 2 [Total Pts: 30] |1241997',\n",
       " 'Lab 3 [Total Pts: 30] |1241998',\n",
       " 'Lab 4 [Total Pts: 30] |1241999',\n",
       " 'Lab 5 [Total Pts: 30] |1242000',\n",
       " 'Lab 6 [Total Pts: 30] |1242001',\n",
       " 'Lab 7 [Total Pts: 30] |1242002',\n",
       " 'Lab 8 [Total Pts: 30] |1242003',\n",
       " 'Lab 9 [Total Pts: 30] |1242004',\n",
       " 'Lab 10 [Total Pts: 30] |1242005',\n",
       " 'Lab 11 [Total Pts: 30] |1242006',\n",
       " 'Lab 12 [Total Pts: 30] |1242007',\n",
       " 'Lab 13 [Total Pts: 30] |1242008']"
      ]
     },
     "execution_count": 6,
     "metadata": {},
     "output_type": "execute_result"
    }
   ],
   "source": [
    "lab_col_list = list(range(7, 20))\n",
    "lab_total_pts = [30] * 13\n",
    "\n",
    "column_names[7:20] # this includes item 7 but not item 20"
   ]
  },
  {
   "cell_type": "code",
   "execution_count": 7,
   "metadata": {
    "collapsed": true
   },
   "outputs": [],
   "source": [
    "lab_num, lab_den = calculate_raw_grade_portion(lab_col_list[:num_labs_completed], lab_total_pts[:num_labs_completed])\n",
    "rescaled_lab_den = lab_den - 30\n",
    "lab_grades = np.minimum(lab_num / rescaled_lab_den, 1)"
   ]
  },
  {
   "cell_type": "markdown",
   "metadata": {},
   "source": [
    "# Online Homework"
   ]
  },
  {
   "cell_type": "markdown",
   "metadata": {},
   "source": [
    "The total points for the final assignment are set to 0 because it is an extra credit assignment; the total possible points value does not contribute to the denominator."
   ]
  },
  {
   "cell_type": "code",
   "execution_count": 8,
   "metadata": {},
   "outputs": [
    {
     "data": {
      "text/plain": [
       "['Chapter 1 Online Homework [Total Pts: 20] |1242061',\n",
       " 'Chapter 2 Online Homework-Part 1 [Total Pts: 17] |1242062',\n",
       " 'Chapter 2 Online Homework-Part 2 [Total Pts: 20] |1242063',\n",
       " 'Chapter 3 Online Homework [Total Pts: 36] |1242064',\n",
       " 'Chapter 4 Online Homework [Total Pts: 25] |1242065',\n",
       " 'Chapter 5 Online Homework [Total Pts: 25] |1242066',\n",
       " 'Chapter 6 Online Homework [Total Pts: 25] |1242067',\n",
       " 'Chapter 7-8 Online Homework [Total Pts: 23] |1242068',\n",
       " 'Chapter 10 Online Homework [Total Pts: 30] |1242069',\n",
       " 'Chapter 11 Online Homework [Total Pts: 26] |1242070',\n",
       " 'Chapter 9/12 Online Homework [Total Pts: 16] |1242071',\n",
       " 'Chapter 15I Online Homework [Total Pts: 25] |1242072',\n",
       " 'Chapter 16 Online Homework [Total Pts: 18] |1242073',\n",
       " 'Chapter 17 Online Homework [Total Pts: 20] |1242074',\n",
       " 'Chapter 15II Online Homework [Total Pts: 33] |1242075',\n",
       " 'Chapter 18 Online Homework-Part 1 [Total Pts: 19] |1242076',\n",
       " 'Chapter 18 Online Homework-Part 2 [Total Pts: 14] |1242077',\n",
       " 'Chapter 19 Online Homework [Total Pts: 12] |1242078',\n",
       " 'Chapter 20 Online Homework-Part 1 [Total Pts: 21] |1242079',\n",
       " 'Chapter 20 Online Homework-Part 2 [Total Pts: 21] |1242080',\n",
       " 'Chapter 21 Online Homework (Extra Credit) [Total Pts: 22] |1242081']"
      ]
     },
     "execution_count": 8,
     "metadata": {},
     "output_type": "execute_result"
    }
   ],
   "source": [
    "ohw_cols_list = list(range(72, 93))\n",
    "ohw_total_pts = [20, 17, 20, 36, 25, 25, 25, 23, 30, 26, 16, 25, 18, 20, 33, 19, 14, 12, 21, 21, 0]\n",
    "\n",
    "column_names[72:93]"
   ]
  },
  {
   "cell_type": "code",
   "execution_count": 9,
   "metadata": {
    "collapsed": true
   },
   "outputs": [],
   "source": [
    "ohw_num, ohw_den = calculate_raw_grade_portion(ohw_cols_list[:num_ohws_completed],\n",
    "                                               ohw_total_pts[:num_ohws_completed])\n",
    "rescaled_ohw_den = 0.95 * ohw_den\n",
    "ohw_grades = np.minimum(ohw_num / rescaled_ohw_den, 1)"
   ]
  },
  {
   "cell_type": "markdown",
   "metadata": {},
   "source": [
    "# Vocab Quizzes"
   ]
  },
  {
   "cell_type": "markdown",
   "metadata": {},
   "source": [
    "The same extra credit note for the online homeworks applies here."
   ]
  },
  {
   "cell_type": "code",
   "execution_count": 10,
   "metadata": {},
   "outputs": [
    {
     "data": {
      "text/plain": [
       "['Chapter 1 Vocab Quiz [Total Pts: 15] |1242039',\n",
       " 'Chapter 2 Vocab Quiz-Part 1 [Total Pts: 9] |1242040',\n",
       " 'Chapter 2 Vocab Quiz-Part 2 [Total Pts: 10] |1242041',\n",
       " 'Chapter 3 Vocab Quiz [Total Pts: 31] |1242042',\n",
       " 'Chapter 4 Vocab Quiz [Total Pts: 12] |1242043',\n",
       " 'Chapter 5 Vocab Quiz [Total Pts: 26] |1242044',\n",
       " 'Chapter 6 Vocab Quiz [Total Pts: 16] |1242045',\n",
       " 'Chapter 7-8 Vocab Quiz [Total Pts: 24] |1242046',\n",
       " 'Chapter 10 Vocab Quiz [Total Pts: 22] |1242047',\n",
       " 'Chapter 11 Vocab Quiz [Total Pts: 27] |1242048',\n",
       " 'Chapter 9/12 Vocab Quiz [Total Pts: 13] |1242049',\n",
       " 'Chapter 15I Vocab Quiz [Total Pts: 22] |1242050',\n",
       " 'Chapter 16 Vocab Quiz [Total Pts: 14] |1242051',\n",
       " 'Chapter 17 Vocab Quiz [Total Pts: 23] |1242052',\n",
       " 'Chapter 15II Vocab Quiz [Total Pts: 25] |1242053',\n",
       " 'Chapter 18 Vocab Quiz-Part 1 [Total Pts: 18] |1242054',\n",
       " 'Chapter 18 Vocab Quiz-Part 2 [Total Pts: 25] |1242055',\n",
       " 'Chapter 19 Vocab Quiz [Total Pts: 6] |1242056',\n",
       " 'Chapter 20 Vocab Quiz-Part 1 [Total Pts: 31] |1242057',\n",
       " 'Chapter 20 Vocab Quiz-Part 2 [Total Pts: 34] |1242058',\n",
       " 'Chapter 21 Vocab Quiz (Extra Credit) [Total Pts: 23] |1242059']"
      ]
     },
     "execution_count": 10,
     "metadata": {},
     "output_type": "execute_result"
    }
   ],
   "source": [
    "vq_cols_list = list(range(50, 71))\n",
    "vq_total_pts = [15, 9, 10, 31, 12, 26, 16, 24, 22, 27, 13, 22, 14, 23, 25, 18, 15, 6, 31, 34, 0]\n",
    "\n",
    "column_names[50:71]"
   ]
  },
  {
   "cell_type": "code",
   "execution_count": 11,
   "metadata": {
    "collapsed": true
   },
   "outputs": [],
   "source": [
    "vq_num, vq_den = calculate_raw_grade_portion(vq_cols_list[:num_vqs_completed],\n",
    "                                             vq_total_pts[:num_vqs_completed])\n",
    "rescaled_vq_den = 0.95 * vq_den\n",
    "vq_grades = np.minimum(vq_num / rescaled_vq_den, 1)"
   ]
  },
  {
   "cell_type": "markdown",
   "metadata": {},
   "source": [
    "# Written Homework"
   ]
  },
  {
   "cell_type": "code",
   "execution_count": 12,
   "metadata": {},
   "outputs": [
    {
     "data": {
      "text/plain": [
       "['Ch 2 W HW [Total Pts: 25] |1242026',\n",
       " 'Ch 3 W HW [Total Pts: 35] |1242027',\n",
       " 'Ch 4 W HW [Total Pts: 29] |1242028',\n",
       " 'Ch 5 W HW [Total Pts: 30] |1242029',\n",
       " 'Ch 6 W HW [Total Pts: 20] |1242030',\n",
       " 'Ch 7-8 W HW [Total Pts: 30] |1242031',\n",
       " 'Ch 15I W HW [Total Pts: 20] |1242032',\n",
       " 'Ch 16 W HW [Total Pts: 25] |1242033',\n",
       " 'Ch 17 W HW [Total Pts: 25] |1242034',\n",
       " 'Ch 18 W HW [Total Pts: 35] |1242035',\n",
       " 'Ch 20 W HW [Total Pts: 30] |1242036']"
      ]
     },
     "execution_count": 12,
     "metadata": {},
     "output_type": "execute_result"
    }
   ],
   "source": [
    "whw_cols_list = list(range(37, 48))\n",
    "whw_total_pts = [25, 35, 29, 30, 20, 30, 20, 25, 25, 35, 30]\n",
    "\n",
    "column_names[37:48]"
   ]
  },
  {
   "cell_type": "code",
   "execution_count": 13,
   "metadata": {
    "collapsed": true
   },
   "outputs": [],
   "source": [
    "whw_num, whw_den = calculate_raw_grade_portion(whw_cols_list[:num_whws_completed],\n",
    "                                              whw_total_pts[:num_whws_completed])\n",
    "rescaled_whw_den = 0.95 * whw_den\n",
    "whw_grades = np.minimum(whw_num / rescaled_whw_den, 1)"
   ]
  },
  {
   "cell_type": "markdown",
   "metadata": {},
   "source": [
    "# Lecture Quizzes"
   ]
  },
  {
   "cell_type": "code",
   "execution_count": 14,
   "metadata": {},
   "outputs": [
    {
     "data": {
      "text/plain": [
       "['Lecture Quiz 1 [Total Pts: 10] |1242010',\n",
       " 'Lecture Quiz 2 [Total Pts: 10] |1242011',\n",
       " 'Lecture Quiz 3 [Total Pts: 10] |1242012',\n",
       " 'Lecture Quiz 4 [Total Pts: 10] |1242013',\n",
       " 'Lecture Quiz 5 [Total Pts: 10] |1242014',\n",
       " 'Lecture Quiz 6 [Total Pts: 10] |1242015',\n",
       " 'Lecture Quiz 7 [Total Pts: 10] |1242016',\n",
       " 'Lecture Quiz 8 [Total Pts: 10] |1242017',\n",
       " 'Lecture Quiz 9 [Total Pts: 10] |1242018',\n",
       " 'Lecture Quiz 10 [Total Pts: 10] |1242019',\n",
       " 'Lecture Quiz 11 [Total Pts: 10] |1242020',\n",
       " 'Lecture Quiz 12 [Total Pts: 10] |1242021',\n",
       " 'Lecture Quiz 13 [Total Pts: 10] |1242022',\n",
       " 'Lecture Quiz 14 [Total Pts: 10] |1242023',\n",
       " 'Lecture Quiz 15 [Total Pts: 10] |1242024']"
      ]
     },
     "execution_count": 14,
     "metadata": {},
     "output_type": "execute_result"
    }
   ],
   "source": [
    "lq_cols_list = list(range(21, 36))\n",
    "lq_total_pts = [10] * 15\n",
    "\n",
    "column_names[21:36]"
   ]
  },
  {
   "cell_type": "code",
   "execution_count": 15,
   "metadata": {
    "collapsed": true
   },
   "outputs": [],
   "source": [
    "lq_num, lq_den = calculate_raw_grade_portion(lq_cols_list[:num_lqs_completed],\n",
    "                                             lq_total_pts[:num_lqs_completed])\n",
    "rescaled_lq_den = lq_den - 20\n",
    "lq_grades = np.minimum(lq_num / rescaled_lq_den, 1)"
   ]
  },
  {
   "cell_type": "markdown",
   "metadata": {},
   "source": [
    "# Unit Quizzes"
   ]
  },
  {
   "cell_type": "code",
   "execution_count": 16,
   "metadata": {
    "collapsed": true
   },
   "outputs": [],
   "source": [
    "uq_total_pts = np.array([[50, 50, 40, 47, 50]])\n",
    "\n",
    "# Broadcasting the total points array for this operation.\n",
    "uq_grades_mat = grades[grades.columns[94:99]].values[:, :num_uqs_completed] / uq_total_pts[:, :num_uqs_completed]\n",
    "uq_grades = np.nansum(uq_grades_mat, axis=1) / np.sum(~np.isnan(uq_grades_mat), axis=1)"
   ]
  },
  {
   "cell_type": "markdown",
   "metadata": {},
   "source": [
    "# Midterm Exam"
   ]
  },
  {
   "cell_type": "code",
   "execution_count": 17,
   "metadata": {
    "collapsed": true
   },
   "outputs": [],
   "source": [
    "mt_grades = grades['Midterm Exam [Total Pts: 70] |1288179'].values / midterm_den"
   ]
  },
  {
   "cell_type": "markdown",
   "metadata": {},
   "source": [
    "# Final Exam"
   ]
  },
  {
   "cell_type": "markdown",
   "metadata": {},
   "source": [
    "# Final Percentage Grade"
   ]
  },
  {
   "cell_type": "markdown",
   "metadata": {},
   "source": [
    "This assumes that the grade from all unit quizzes combined comprises 20% of the final grade. Based on the grade breakdown, that is not true for grade calculations partway through the semester, but the difference shouldn't matter too much."
   ]
  },
  {
   "cell_type": "code",
   "execution_count": 18,
   "metadata": {
    "collapsed": true
   },
   "outputs": [],
   "source": [
    "fpg_den= 0.60 + 0.20 * midterm_exam_completed + 0.20 * final_exam_completed\n",
    "\n",
    "pct_grades = (lab_grades * pcts['lab'] + \\\n",
    "                  ohw_grades * pcts['ohw'] + \\\n",
    "                  vq_grades * pcts['vq'] + \\\n",
    "                  whw_grades * pcts['whw'] + \\\n",
    "                  lq_grades * pcts['lq'] + \\\n",
    "                  uq_grades * pcts['uq'] + \\\n",
    "                  mt_grades * pcts['mt']) / fpg_den\n",
    "\n",
    "fgdf = pd.DataFrame({'Last': grades['Last Name'].copy(),\n",
    "                    'First': grades['First Name'].copy(),\n",
    "                    'Grade': pct_grades}, columns=['Last', 'First', 'Grade'])"
   ]
  },
  {
   "cell_type": "markdown",
   "metadata": {},
   "source": [
    "# Final Letter Grade"
   ]
  }
 ],
 "metadata": {
  "kernelspec": {
   "display_name": "Python [default]",
   "language": "python",
   "name": "python3"
  },
  "language_info": {
   "codemirror_mode": {
    "name": "ipython",
    "version": 3
   },
   "file_extension": ".py",
   "mimetype": "text/x-python",
   "name": "python",
   "nbconvert_exporter": "python",
   "pygments_lexer": "ipython3",
   "version": "3.5.3"
  }
 },
 "nbformat": 4,
 "nbformat_minor": 2
}
